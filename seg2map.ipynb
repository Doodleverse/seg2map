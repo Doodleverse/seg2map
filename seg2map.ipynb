{
 "cells": [
  {
   "cell_type": "code",
   "execution_count": null,
   "id": "7f327b92-3814-44ff-92b6-bd8488e6528f",
   "metadata": {},
   "outputs": [],
   "source": [
    "import os\n",
    "# Local Imports\n",
    "from src.seg2map import map_interface\n",
    "from src.seg2map import log_maker #must be the first module loaded to create logs folder\n",
    "\n",
    "# External Imports\n",
    "import ee\n",
    "from google.auth import exceptions as google_auth_exceptions\n",
    "\n",
    "# suppress tensorflow warnings\n",
    "os.environ['TF_CPP_MIN_LOG_LEVEL'] = '3'"
   ]
  },
  {
   "cell_type": "markdown",
   "id": "00a32ffb-a5ac-46c6-b728-4aa6fce87acf",
   "metadata": {},
   "source": [
    "## Authenticate and Initialize with Google Earth Engine (GEE)\n",
    "\n",
    "- Run this cell to initialize with GEE which will allow you to download remote sensing data from GEE.\n",
    "\n",
    "### First Time Users\n",
    "\n",
    "- In order to use Google Earth Engine (GEE) you will need to sign up to request access to use Google Earth Engine.https://signup.earthengine.google.com. You will only need to do this once and it takes only a day to get your account verified.\n",
    "\n",
    "### How `ee.Authenticate()` works\n",
    "\n",
    "- In order to initialize with GEE you will need an authorization token with is obtained by running `ee.Authenticate()`.This token lasts 7 days and during those 7 days you will not need to authenticate with google earth engine with an access code. Once the 7 days are up you will need to reauthenticate to use GEE again.\n"
   ]
  },
  {
   "cell_type": "code",
   "execution_count": null,
   "id": "eefa9963-0fc1-43f2-bbfa-3b8665481712",
   "metadata": {},
   "outputs": [],
   "source": [
    "import ee\n",
    "from google.auth import exceptions as google_auth_exceptions\n",
    "\n",
    "try:\n",
    "    ee.Initialize()\n",
    "except google_auth_exceptions.RefreshError:\n",
    "    print(\"Please refresh your Google authentication token.\\n\")\n",
    "    ee.Authenticate()\n",
    "    ee.Initialize()\n",
    "except ee.EEException:\n",
    "    print(\"Please authenticate with Google Earth Engine:\\n\")\n",
    "    ee.Authenticate()\n",
    "    ee.Initialize()\n",
    "except FileNotFoundError:\n",
    "    print(\"Credentials file not found. Please authenticate with Google Earth Engine:\\n\")\n",
    "    ee.Authenticate()\n",
    "    ee.Initialize()"
   ]
  },
  {
   "cell_type": "markdown",
   "id": "61da2172-9ac3-49ce-8d01-052f34ea711d",
   "metadata": {},
   "source": [
    "# How to Use The Map\n",
    "\n",
    "---\n",
    "1.  Click `Save Settings` Button\n",
    "2. Use the rectangle tool to draw a ROI along the coastline.\n",
    "3. Load transects into your bounding box with the `Load Transects` button. If any exist for the bounding box you selected they should appear.\n",
    "4. Click the ROIs you want to download.\n",
    "5. Once you've selected all the ROIs you want to download click `Downlod Imagery`\n",
    " - If any of the ROIs succesfully download they will have their own folder with all their data in the `data` directory in the `seg2map` directory"
   ]
  },
  {
   "cell_type": "code",
   "execution_count": null,
   "id": "61c1cc88-c52a-4006-87dd-091774569cdb",
   "metadata": {},
   "outputs": [],
   "source": [
    "# from coastseg.map_UI import UI\n",
    "from src.seg2map.map_UI import UI\n",
    "from src.seg2map.map_interface import Seg2Map\n",
    "\n",
    "seg2map=Seg2Map()\n",
    "seg2map_ui = UI(seg2map)\n",
    "seg2map_ui.create_dashboard()"
   ]
  },
  {
   "cell_type": "code",
   "execution_count": null,
   "id": "6b3ea1b4-081c-41c7-8f2b-fab74c24be33",
   "metadata": {},
   "outputs": [],
   "source": [
    "from src.seg2map import log_maker\n",
    "from src.seg2map.models_UI import UI_Models\n",
    "models_ui = UI_Models()\n",
    "models_ui.create_dashboard()"
   ]
  },
  {
   "cell_type": "code",
   "execution_count": null,
   "id": "080c0b88-db97-4fcf-9e39-0e12a447c0b9",
   "metadata": {},
   "outputs": [],
   "source": []
  }
 ],
 "metadata": {
  "kernelspec": {
   "display_name": "Python 3 (ipykernel)",
   "language": "python",
   "name": "python3"
  },
  "language_info": {
   "codemirror_mode": {
    "name": "ipython",
    "version": 3
   },
   "file_extension": ".py",
   "mimetype": "text/x-python",
   "name": "python",
   "nbconvert_exporter": "python",
   "pygments_lexer": "ipython3",
   "version": "3.10.13"
  }
 },
 "nbformat": 4,
 "nbformat_minor": 5
}
